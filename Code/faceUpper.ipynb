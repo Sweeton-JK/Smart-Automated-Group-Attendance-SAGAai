{
 "cells": [
  {
   "cell_type": "code",
   "execution_count": 10,
   "metadata": {},
   "outputs": [],
   "source": [
    "import cv2\n",
    "import os\n",
    "\n",
    "def extract_and_save_upper_faces(input_folder, output_folder):\n",
    "    face_cascade = cv2.CascadeClassifier(cv2.data.haarcascades + 'haarcascade_frontalface_default.xml')\n",
    "\n",
    "    if not os.path.exists(output_folder):\n",
    "        os.makedirs(output_folder)\n",
    "\n",
    "    for subfolder in os.listdir(input_folder):\n",
    "        subfolder_path = os.path.join(input_folder, subfolder)\n",
    "        if os.path.isdir(subfolder_path):\n",
    "            output_subfolder = os.path.join(output_folder, subfolder)\n",
    "            os.makedirs(output_subfolder, exist_ok=True)\n",
    "\n",
    "            for filename in os.listdir(subfolder_path):\n",
    "                if filename.lower().endswith(('.png', '.jpg', '.jpeg')):\n",
    "                    image_path = os.path.join(subfolder_path, filename)\n",
    "\n",
    "                    person_image = cv2.imread(image_path)\n",
    "\n",
    "                    gray_image = cv2.cvtColor(person_image, cv2.COLOR_BGR2GRAY)\n",
    "\n",
    "                    faces = face_cascade.detectMultiScale(gray_image, scaleFactor=1.1, minNeighbors=5, minSize=(30, 30))\n",
    "\n",
    "                    for i, (x, y, w, h) in enumerate(faces):\n",
    "\n",
    "                        if i>=1:\n",
    "                            break\n",
    "                        upper_face = person_image[y:y + h//2, x:x + w]\n",
    "\n",
    "                        output_path = os.path.join(output_subfolder, f\"upper_face_{i}_{filename}\")\n",
    "                        cv2.imwrite(output_path, upper_face)\n",
    "\n",
    "\n",
    "input_main_folder = '../Images/Class/'  \n",
    "output_main_folder = '../Images/Class/'  \n",
    "\n",
    "extract_and_save_upper_faces(input_main_folder, output_main_folder)\n"
   ]
  }
 ],
 "metadata": {
  "kernelspec": {
   "display_name": "Python 3",
   "language": "python",
   "name": "python3"
  },
  "language_info": {
   "codemirror_mode": {
    "name": "ipython",
    "version": 3
   },
   "file_extension": ".py",
   "mimetype": "text/x-python",
   "name": "python",
   "nbconvert_exporter": "python",
   "pygments_lexer": "ipython3",
   "version": "3.7.4"
  }
 },
 "nbformat": 4,
 "nbformat_minor": 2
}

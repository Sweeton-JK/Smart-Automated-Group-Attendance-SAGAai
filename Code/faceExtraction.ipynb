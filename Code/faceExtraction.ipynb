{
 "cells": [
  {
   "cell_type": "code",
   "execution_count": 5,
   "metadata": {},
   "outputs": [],
   "source": [
    "# Face Extraction Code\n",
    "\n",
    "import cv2\n",
    "import dlib\n",
    "import os"
   ]
  },
  {
   "cell_type": "code",
   "execution_count": 6,
   "metadata": {},
   "outputs": [],
   "source": [
    "def extract_faces(image_path, output_folder):\n",
    "    image = cv2.imread(image_path)\n",
    "    face_detector = dlib.get_frontal_face_detector()\n",
    "    faces = face_detector(image)\n",
    "    os.makedirs(output_folder, exist_ok=True)\n",
    "    for i, face in enumerate(faces):\n",
    "        left = max(0, face.left() - 150) \n",
    "        top = max(0, face.top() - 150) \n",
    "        right = min(image.shape[1], face.right() + 150)\n",
    "        bottom = min(image.shape[0], face.bottom() + 150)\n",
    "        face_image = image[top:bottom, left:right]\n",
    "        filename = f\"face{i}.png\"\n",
    "        output_path = os.path.join(output_folder, filename)\n",
    "        cv2.imwrite(output_path, face_image)\n",
    "        print(f\"Face {i + 1} saved: {output_path}\")"
   ]
  },
  {
   "cell_type": "code",
   "execution_count": 7,
   "metadata": {},
   "outputs": [],
   "source": [
    "input_folder = \"../Images/input_images/\"\n",
    "output_folder = \"../Images/output_images/testImages1\""
   ]
  },
  {
   "cell_type": "code",
   "execution_count": 8,
   "metadata": {},
   "outputs": [],
   "source": [
    "for filename in os.listdir(input_folder):\n",
    "    if filename.endswith(\".jpg\") or filename.endswith(\".png\"):\n",
    "        image_path = os.path.join(input_folder, filename)\n",
    "        extract_faces(image_path, output_folder)  "
   ]
  }
 ],
 "metadata": {
  "kernelspec": {
   "display_name": "Python 3",
   "language": "python",
   "name": "python3"
  },
  "language_info": {
   "codemirror_mode": {
    "name": "ipython",
    "version": 3
   },
   "file_extension": ".py",
   "mimetype": "text/x-python",
   "name": "python",
   "nbconvert_exporter": "python",
   "pygments_lexer": "ipython3",
   "version": "3.7.4"
  },
  "orig_nbformat": 4
 },
 "nbformat": 4,
 "nbformat_minor": 2
}

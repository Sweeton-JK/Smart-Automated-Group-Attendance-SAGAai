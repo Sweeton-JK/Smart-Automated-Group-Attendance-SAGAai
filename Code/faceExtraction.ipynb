{
 "cells": [
  {
   "cell_type": "code",
   "execution_count": 1,
   "metadata": {},
   "outputs": [],
   "source": [
    "import cv2\n",
    "import dlib\n",
    "import os"
   ]
  },
  {
   "cell_type": "code",
   "execution_count": 2,
   "metadata": {},
   "outputs": [],
   "source": [
    "def extract_faces(image_path, output_folder,bounding):\n",
    "    image = cv2.imread(image_path)\n",
    "    face_detector = dlib.get_frontal_face_detector()\n",
    "    faces = face_detector(image)\n",
    "    os.makedirs(output_folder, exist_ok=True)\n",
    "    for i, face in enumerate(faces):\n",
    "        left = max(0, face.left() - 50) \n",
    "        top = max(0, face.top() - 50) \n",
    "        right = min(image.shape[1], face.right() + 50)\n",
    "        bottom = min(image.shape[0], face.bottom() + 50)\n",
    "        face_image = image[top:bottom, left:right]\n",
    "        filename = f\"face{i}.png\"\n",
    "        output_path = os.path.join(output_folder, filename)\n",
    "        cv2.imwrite(output_path, face_image)\n",
    "        print(f\"Face {i + 1} saved: {output_path}\")\n",
    "\n",
    "        cv2.rectangle(image, (left, top), (right, bottom), (255, 0, 0), 2)\n",
    "\n",
    "        filename = f\"face{i}_with_bounding_box.png\"\n",
    "        output_path = os.path.join(bounding, filename)\n",
    "        cv2.imwrite(output_path, image)\n",
    "        print(f\"Face {i + 1} with bounding box saved: {bounding}\")"
   ]
  },
  {
   "cell_type": "code",
   "execution_count": 3,
   "metadata": {},
   "outputs": [],
   "source": [
    "input_folder = \"../Images/input_images/\"\n",
    "output_folder = \"../Images/output_images/testImages/\"\n",
    "bounding = \"../Images/output_images/boundingBoxImages/\""
   ]
  },
  {
   "cell_type": "code",
   "execution_count": 4,
   "metadata": {},
   "outputs": [
    {
     "name": "stdout",
     "output_type": "stream",
     "text": [
      "Face 1 saved: ../Images/output_images/testImages/face0.png\n",
      "Face 1 with bounding box saved: ../Images/output_images/boundingBoxImages/\n",
      "Face 2 saved: ../Images/output_images/testImages/face1.png\n",
      "Face 2 with bounding box saved: ../Images/output_images/boundingBoxImages/\n",
      "Face 3 saved: ../Images/output_images/testImages/face2.png\n",
      "Face 3 with bounding box saved: ../Images/output_images/boundingBoxImages/\n",
      "Face 4 saved: ../Images/output_images/testImages/face3.png\n",
      "Face 4 with bounding box saved: ../Images/output_images/boundingBoxImages/\n",
      "Face 5 saved: ../Images/output_images/testImages/face4.png\n",
      "Face 5 with bounding box saved: ../Images/output_images/boundingBoxImages/\n"
     ]
    }
   ],
   "source": [
    "for filename in os.listdir(input_folder):\n",
    "    if filename.endswith(\".jpg\") or filename.endswith(\".png\"):\n",
    "        image_path = os.path.join(input_folder, filename)\n",
    "        extract_faces(image_path, output_folder,bounding)"
   ]
  }
 ],
 "metadata": {
  "kernelspec": {
   "display_name": "Python 3",
   "language": "python",
   "name": "python3"
  },
  "language_info": {
   "codemirror_mode": {
    "name": "ipython",
    "version": 3
   },
   "file_extension": ".py",
   "mimetype": "text/x-python",
   "name": "python",
   "nbconvert_exporter": "python",
   "pygments_lexer": "ipython3",
   "version": "3.11.4"
  },
  "orig_nbformat": 4
 },
 "nbformat": 4,
 "nbformat_minor": 2
}

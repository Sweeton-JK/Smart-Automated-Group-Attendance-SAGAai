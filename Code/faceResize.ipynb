{
 "cells": [
  {
   "cell_type": "code",
   "execution_count": 4,
   "metadata": {},
   "outputs": [],
   "source": [
    "from PIL import Image\n",
    "import os"
   ]
  },
  {
   "cell_type": "code",
   "execution_count": 5,
   "metadata": {},
   "outputs": [],
   "source": [
    "def resize_images(input_folder, output_folder, target_size):\n",
    "    if not os.path.exists(output_folder):\n",
    "        os.makedirs(output_folder)\n",
    "\n",
    "    for filename in os.listdir(input_folder):\n",
    "        if filename.endswith('.JPG') or filename.endswith('.png'):\n",
    "            image_path = os.path.join(input_folder, filename)\n",
    "            image = Image.open(image_path)\n",
    "\n",
    "            resized_image = image.resize(target_size)\n",
    "\n",
    "            output_path = os.path.join(output_folder, filename)\n",
    "            resized_image.save(output_path)\n",
    "\n",
    "            image.close()"
   ]
  },
  {
   "cell_type": "code",
   "execution_count": 6,
   "metadata": {},
   "outputs": [],
   "source": [
    "input_folder = \"../Images/output_images/testImages/\"\n",
    "output_folder = \"../New Dataset/\"\n",
    "target_size = (204, 185)\n",
    "\n",
    "resize_images(input_folder, output_folder, target_size)"
   ]
  }
 ],
 "metadata": {
  "kernelspec": {
   "display_name": "Python 3",
   "language": "python",
   "name": "python3"
  },
  "language_info": {
   "codemirror_mode": {
    "name": "ipython",
    "version": 3
   },
   "file_extension": ".py",
   "mimetype": "text/x-python",
   "name": "python",
   "nbconvert_exporter": "python",
   "pygments_lexer": "ipython3",
   "version": "3.11.4"
  },
  "orig_nbformat": 4
 },
 "nbformat": 4,
 "nbformat_minor": 2
}
